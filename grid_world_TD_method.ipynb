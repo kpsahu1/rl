{
  "nbformat": 4,
  "nbformat_minor": 0,
  "metadata": {
    "colab": {
      "name": "grid_world_TD_method.ipynb",
      "provenance": [],
      "collapsed_sections": [],
      "include_colab_link": true
    },
    "kernelspec": {
      "name": "python3",
      "display_name": "Python 3"
    },
    "language_info": {
      "name": "python"
    }
  },
  "cells": [
    {
      "cell_type": "markdown",
      "metadata": {
        "id": "view-in-github",
        "colab_type": "text"
      },
      "source": [
        "<a href=\"https://colab.research.google.com/github/kpsahu1/rl/blob/main/grid_world_TD_method.ipynb\" target=\"_parent\"><img src=\"https://colab.research.google.com/assets/colab-badge.svg\" alt=\"Open In Colab\"/></a>"
      ]
    },
    {
      "cell_type": "markdown",
      "metadata": {
        "id": "mn9h-w8thSCR"
      },
      "source": [
        "#**Assignment 1 ( Solving Grid World Problem with Temporal Difference Methods )**\n",
        "\n",
        "##**Inputs:**\n",
        "\n",
        "* Non-Terminating States :  1, 2, 3, 4, 5, 6, 7, 8, 9, 10, 11, 12, 13, 14\n",
        "* Terminating State     :  0\n",
        "\n",
        "```\n",
        "---------------------------------\n",
        "|   0   |   1   |   2   |   3   |\n",
        "---------------------------------\n",
        "|   4   |   5   |   6   |   7   |\n",
        "---------------------------------\n",
        "|   8   |   9   |   10  |   11  |\n",
        "---------------------------------\n",
        "|   12  |   13  |   14  |   0   |\n",
        "---------------------------------\n",
        "```\n",
        "* Determinestic Policy:\n",
        "\n",
        "```\n",
        "------------------------------------------\n",
        "|  ---   |   left  |   left   |   left   |\n",
        "------------------------------------------\n",
        "|   up   |    up   |   down   |   down   |\n",
        "------------------------------------------\n",
        "|   up   |    up   |   down   |   down   |\n",
        "------------------------------------------\n",
        "|   up   |  right  |   right  |    ---   |\n",
        "------------------------------------------\n",
        "```\n"
      ]
    },
    {
      "cell_type": "markdown",
      "metadata": {
        "id": "ODX28mW36BN7"
      },
      "source": [
        "* Discount Factor ( gamma ) = 1 [ Episodic Task ]"
      ]
    },
    {
      "cell_type": "code",
      "metadata": {
        "id": "eyiWk4LY6H6a"
      },
      "source": [
        "gamma = 1\n",
        "alpha = 0.1"
      ],
      "execution_count": 86,
      "outputs": []
    },
    {
      "cell_type": "markdown",
      "metadata": {
        "id": "nlSo-lUv6TP4"
      },
      "source": [
        "* Reward on all trasitions until termination = -1"
      ]
    },
    {
      "cell_type": "code",
      "metadata": {
        "id": "dWLuJvZH6WOt"
      },
      "source": [
        "R = -1"
      ],
      "execution_count": 23,
      "outputs": []
    },
    {
      "cell_type": "markdown",
      "metadata": {
        "id": "4vH87I5J6xX-"
      },
      "source": [
        "* Probability of Transitions from current state to next state:"
      ]
    },
    {
      "cell_type": "code",
      "metadata": {
        "id": "MxryUYnTuG8Z"
      },
      "source": [
        "import random\n",
        "import numpy as np\n",
        "\n",
        "def find_next_state (current_state):\n",
        "\n",
        "  next_state = np.zeros([15])\n",
        " \n",
        "  ## considering the only valid actions because of determinestic policy\n",
        "  ## next_state[current_state]\n",
        "  \"\"\"\n",
        "  # interior states\n",
        "  next_state[5] = random.choices([1, 4, 6, 9],     weights=(0.7, 0.1, 0.1, 0.1))[0]   ; # up action\n",
        "  next_state[6] = random.choices([10, 5, 2, 7],    weights=(0.7, 0.1, 0.1, 0.1))[0]   ; # down action\n",
        "  next_state[9] = random.choices([5, 8, 13, 10],   weights=(0.7, 0.1, 0.1, 0.1))[0]   ; # up action\n",
        "  next_state[10] = random.choices([14, 9, 6, 11],  weights=(0.7, 0.1, 0.1, 0.1))[0]   ; # down action\n",
        "\n",
        "  # boundary states\n",
        "  next_state[1] = random.choices([0, 1, 2, 5],     weights=(0.7, 0.1, 0.1, 0.1))[0]   ; # left action\n",
        "  next_state[2] = random.choices([1, 2, 6, 3],     weights=(0.7, 0.1, 0.1, 0.1))[0]   ; # left action\n",
        "  next_state[4] = random.choices([0, 4, 5, 8],     weights=(0.7, 0.1, 0.1, 0.1))[0]   ; # up action\n",
        "  next_state[7] = random.choices([11, 7, 6, 3],    weights=(0.7, 0.1, 0.1, 0.1))[0]   ; # down action\n",
        "  next_state[8] = random.choices([4, 8, 9, 12],    weights=(0.7, 0.1, 0.1, 0.1))[0]   ; # up action\n",
        "  next_state[11] = random.choices([0, 11, 7, 10],  weights=(0.7, 0.1, 0.1, 0.1))[0]   ; # down action\n",
        "  next_state[13] = random.choices([14, 13, 9, 12], weights=(0.7, 0.1, 0.1, 0.1))[0]   ; # right action\n",
        "  next_state[14] = random.choices([0, 14, 10, 13], weights=(0.7, 0.1, 0.1, 0.1))[0]   ; # right action\n",
        "\n",
        "  # corner states\n",
        "  next_state[3] = random.choices([2, 7, 3],    weights=(0.7, 0.1, 0.2))[0]            ; # left action\n",
        "  next_state[12] = random.choices([8, 13, 12], weights=(0.7, 0.1, 0.2))[0]            ; # up action\n",
        "  \"\"\"\n",
        "  \n",
        "  # interior states\n",
        "  next_state[5] = random.choices([1, 4, 6, 9],     weights=(0.25, 0.25, 0.25, 0.25))[0]   ; # up action\n",
        "  next_state[6] = random.choices([10, 5, 2, 7],    weights=(0.25, 0.25, 0.25, 0.25))[0]   ; # down action\n",
        "  next_state[9] = random.choices([5, 8, 13, 10],   weights=(0.25, 0.25, 0.25, 0.25))[0]   ; # up action\n",
        "  next_state[10] = random.choices([14, 9, 6, 11],  weights=(0.25, 0.25, 0.25, 0.25))[0]   ; # down action\n",
        "\n",
        "  # boundary states\n",
        "  next_state[1] = random.choices([0, 1, 2, 5],     weights=(0.25, 0.25, 0.25, 0.25))[0]   ; # left action\n",
        "  next_state[2] = random.choices([1, 2, 6, 3],     weights=(0.25, 0.25, 0.25, 0.25))[0]   ; # left action\n",
        "  next_state[4] = random.choices([0, 4, 5, 8],     weights=(0.25, 0.25, 0.25, 0.25))[0]   ; # up action\n",
        "  next_state[7] = random.choices([11, 7, 6, 3],    weights=(0.25, 0.25, 0.25, 0.25))[0]   ; # down action\n",
        "  next_state[8] = random.choices([4, 8, 9, 12],    weights=(0.25, 0.25, 0.25, 0.25))[0]   ; # up action\n",
        "  next_state[11] = random.choices([0, 11, 7, 10],  weights=(0.25, 0.25, 0.25, 0.25))[0]   ; # down action\n",
        "  next_state[13] = random.choices([14, 13, 9, 12], weights=(0.25, 0.25, 0.25, 0.25))[0]   ; # right action\n",
        "  next_state[14] = random.choices([0, 14, 10, 13], weights=(0.25, 0.25, 0.25, 0.25))[0]   ; # right action\n",
        "\n",
        "  # corner states\n",
        "  next_state[3] = random.choices([2, 7, 3],    weights=(0.25, 0.25, 0.5))[0]            ; # left action\n",
        "  next_state[12] = random.choices([8, 13, 12], weights=(0.25, 0.25, 0.5))[0]            ; # up action\n",
        "\n",
        "\n",
        "  return int(next_state[current_state])"
      ],
      "execution_count": 114,
      "outputs": []
    },
    {
      "cell_type": "code",
      "metadata": {
        "id": "fT7yhbrHY0yk"
      },
      "source": [
        "def find_initial_state():\n",
        "  states = list(range(1,15))\n",
        "  return int(random.choices(states)[0])"
      ],
      "execution_count": 107,
      "outputs": []
    },
    {
      "cell_type": "code",
      "metadata": {
        "id": "qqVOSDQ3Ym2D"
      },
      "source": [
        "def generate_trajectory():\n",
        "        current_state = find_initial_state()\n",
        "        trajectory = []\n",
        "        for i in range(0,2000):\n",
        "          trajectory.append(current_state)\n",
        "          next_state = find_next_state(current_state)\n",
        "          current_state = next_state\n",
        "          if (current_state == 0):\n",
        "            trajectory.append(current_state)\n",
        "            break\n",
        "        return trajectory"
      ],
      "execution_count": 108,
      "outputs": []
    },
    {
      "cell_type": "markdown",
      "metadata": {
        "id": "wXV9wpmsVqcI"
      },
      "source": [
        "## **Value Function**"
      ]
    },
    {
      "cell_type": "code",
      "metadata": {
        "id": "LT-OCE4yaQsw"
      },
      "source": [
        "from array import *\n",
        "\n",
        "Number_of_states = 15\n",
        "Number_of_columns = 4\n",
        "Number_of_actions = 4\n",
        "\n",
        "class State:\n",
        "    def __init__(self):\n",
        "        \n",
        "        # initializing value 0 for all states at k = 0\n",
        "        self.value_func = np.ones(Number_of_states)\n",
        "        self.value_func *= 0\n",
        "        self.value_func[0] = 0\n",
        "\n",
        "    def get_value(self):\n",
        "      return self.value_func"
      ],
      "execution_count": 109,
      "outputs": []
    },
    {
      "cell_type": "markdown",
      "metadata": {
        "id": "ZE-P9gEQTtNZ"
      },
      "source": [
        "## **Printing Value Function**"
      ]
    },
    {
      "cell_type": "code",
      "metadata": {
        "id": "bbHeUZ4sUCdb"
      },
      "source": [
        "def printValue(self):\n",
        "        out = \"\"\n",
        "        print(\"v(s) =\")\n",
        "        print(\"  -----------------------\")\n",
        "        for i in range(0, Number_of_states):\n",
        "          out += \" | \" + str(round(self.value_func[i], 3)) \n",
        "          if ( (i+1) % Number_of_columns == 0 ) :\n",
        "            print(out + \" |\")\n",
        "            print(\"  -----------------------\")\n",
        "            out = \"\"\n",
        "        ## printing again the terminal state at the end\n",
        "        out += \" | \" + str(round(self.value_func[0], 3)) \n",
        "        print(out + \" |\")\n",
        "        print(\"  -----------------------\") "
      ],
      "execution_count": 110,
      "outputs": []
    },
    {
      "cell_type": "markdown",
      "metadata": {
        "id": "YS9fAytfq2Yu"
      },
      "source": [
        "## **Temporal Difference Method**"
      ]
    },
    {
      "cell_type": "code",
      "metadata": {
        "id": "KptJ8KGqq70j"
      },
      "source": [
        "def td_Method(self, my_trajectory ):\n",
        "        td_error = np.zeros(Number_of_states)\n",
        "        for i in range(1,len(my_trajectory)):\n",
        "             td_error[my_trajectory[i-1]] = td_error[my_trajectory[i-1]] + ( R + gamma * self.value_func[my_trajectory[i]] - self.value_func[my_trajectory[i-1]] )\n",
        "        td_error *= alpha\n",
        "        self.value_func += td_error"
      ],
      "execution_count": 111,
      "outputs": []
    },
    {
      "cell_type": "markdown",
      "metadata": {
        "id": "xCqDqG81t2mG"
      },
      "source": [
        "## **Main Function:**"
      ]
    },
    {
      "cell_type": "code",
      "metadata": {
        "colab": {
          "base_uri": "https://localhost:8080/"
        },
        "id": "UQmkXBvKoVAS",
        "outputId": "61fa4cab-7dd8-43c0-a967-4b5f378de11d"
      },
      "source": [
        "import matplotlib.pyplot as plt\n",
        "\n",
        "if __name__ == \"__main__\":\n",
        "\n",
        "    state = State()\n",
        "    state.printvalue = printValue\n",
        "    state.td_method = td_Method\n",
        "    print(\"\\nk = 0\")\n",
        "    state.printvalue(state)\n",
        "\n",
        "    for i in range(0,100000):\n",
        "          a = generate_trajectory()\n",
        "          state.td_method(state, a)\n",
        "    state.printvalue(state)\n",
        "   \n"
      ],
      "execution_count": 116,
      "outputs": [
        {
          "output_type": "stream",
          "name": "stdout",
          "text": [
            "\n",
            "k = 0\n",
            "v(s) =\n",
            "  -----------------------\n",
            " | 0.0 | 0.0 | 0.0 | 0.0 |\n",
            "  -----------------------\n",
            " | 0.0 | 0.0 | 0.0 | 0.0 |\n",
            "  -----------------------\n",
            " | 0.0 | 0.0 | 0.0 | 0.0 |\n",
            "  -----------------------\n",
            " | 0.0 | 0.0 | 0.0 | 0.0 |\n",
            "  -----------------------\n",
            "v(s) =\n",
            "  -----------------------\n",
            " | 0.0 | -17.298 | -20.104 | -22.318 |\n",
            "  -----------------------\n",
            " | -13.882 | -21.013 | -20.727 | -20.979 |\n",
            "  -----------------------\n",
            " | -23.813 | -22.923 | -18.994 | -10.336 |\n",
            "  -----------------------\n",
            " | -24.102 | -20.798 | -12.002 | 0.0 |\n",
            "  -----------------------\n"
          ]
        }
      ]
    }
  ]
}