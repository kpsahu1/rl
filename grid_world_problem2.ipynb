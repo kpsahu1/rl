{
  "nbformat": 4,
  "nbformat_minor": 0,
  "metadata": {
    "colab": {
      "name": "grid_world_problem2.ipynb",
      "provenance": [],
      "collapsed_sections": [],
      "authorship_tag": "ABX9TyN/DLFINl9i2HSyw1gNUeoR",
      "include_colab_link": true
    },
    "kernelspec": {
      "name": "python3",
      "display_name": "Python 3"
    },
    "language_info": {
      "name": "python"
    }
  },
  "cells": [
    {
      "cell_type": "markdown",
      "metadata": {
        "id": "view-in-github",
        "colab_type": "text"
      },
      "source": [
        "<a href=\"https://colab.research.google.com/github/kpsahu1/rl/blob/main/grid_world_problem2.ipynb\" target=\"_parent\"><img src=\"https://colab.research.google.com/assets/colab-badge.svg\" alt=\"Open In Colab\"/></a>"
      ]
    },
    {
      "cell_type": "markdown",
      "metadata": {
        "id": "c6BEgPkBQxYr"
      },
      "source": [
        "# **Value Iteration with Bellman's Equation**"
      ]
    },
    {
      "cell_type": "markdown",
      "metadata": {
        "id": "J1d_gyd5bACV"
      },
      "source": [
        "## Grid world problem 1\n",
        "\n",
        "\n",
        "*   Number of States is 15  + 1 newly added state\n",
        "```\n",
        " State.value_func\n",
        "```\n",
        "*   Number of valid states is 14 ( 1, 2, 3, ... 14 )  + 1 newly added state\n",
        "```\n",
        " State.value_func[0,1-14] and State.value_func[0,15]\n",
        "``` \n",
        "*   Number of terminating states is 1 ( 0 ) \n",
        "```\n",
        " State.value_func[0,0]  \n",
        "```\n"
      ]
    },
    {
      "cell_type": "code",
      "metadata": {
        "id": "LT-OCE4yaQsw"
      },
      "source": [
        "import numpy as np\n",
        "from array import *\n",
        "\n",
        "Number_of_states = 15 + 1\n",
        "Number_of_columns = 4\n",
        "Number_of_actions = 4\n",
        "gamma = 1\n",
        "\n",
        "class State:\n",
        "    def __init__(self):\n",
        "        # actions left = 0 right = 1 up = 2 down = 3\n",
        "        self.actions = [ 'left', 'right', 'up' , 'down' ]\n",
        "        # initializing value 0 for all states at k = 0\n",
        "        self.value_func = np.zeros([1, Number_of_states])\n",
        "        # initializing reward -1 for the actions from current state to next state\n",
        "        self.reward = np.ones([Number_of_actions, Number_of_states, Number_of_states ])\n",
        "        self.reward *= -1\n",
        "        # initializing equiprobable policy pi for current state\n",
        "        self.pi = np.ones([Number_of_actions,Number_of_states])\n",
        "        self.pi *= 0.25\n",
        "        # setting zero for all terminal states\n",
        "        self.pi[:,0] = 0\n",
        "        # initializing probability from current state to next state\n",
        "        self.prob = np.zeros([Number_of_actions, Number_of_states, Number_of_states ])\n",
        "        # valid left actions  prob[action, current_state, next_state ] = 1\n",
        "        self.prob[0,1,0] = 1\n",
        "        self.prob[0,2,1] = 1\n",
        "        self.prob[0,3,2] = 1\n",
        "        self.prob[0,4,4] = 1\n",
        "        self.prob[0,5,4] = 1\n",
        "        self.prob[0,6,5] = 1\n",
        "        self.prob[0,7,6] = 1\n",
        "        self.prob[0,8,8] = 1\n",
        "        self.prob[0,9,8] = 1\n",
        "        self.prob[0,10,9] = 1\n",
        "        self.prob[0,11,10] = 1\n",
        "        self.prob[0,12,12] = 1\n",
        "        self.prob[0,13,12] = 1\n",
        "        self.prob[0,14,13] = 1\n",
        "        # new\n",
        "        self.prob[0,15,12] = 1\n",
        "        # valid right actions  prob[action, current_state, next_state ] = 1\n",
        "        self.prob[1,1,2] = 1\n",
        "        self.prob[1,2,3] = 1\n",
        "        self.prob[1,3,3] = 1\n",
        "        self.prob[1,4,5] = 1\n",
        "        self.prob[1,5,6] = 1\n",
        "        self.prob[1,6,7] = 1\n",
        "        self.prob[1,7,7] = 1\n",
        "        self.prob[1,8,9] = 1\n",
        "        self.prob[1,9,10] = 1\n",
        "        self.prob[1,10,11] = 1\n",
        "        self.prob[1,11,11] = 1\n",
        "        self.prob[1,12,13] = 1\n",
        "        self.prob[1,13,14] = 1\n",
        "        self.prob[1,14,0] = 1\n",
        "        # new\n",
        "        self.prob[1,15,14] = 1\n",
        "        # valid up actions  prob[action, current_state, next_state ] = 1\n",
        "        self.prob[2,1,1] = 1\n",
        "        self.prob[2,2,2] = 1\n",
        "        self.prob[2,3,3] = 1\n",
        "        self.prob[2,4,0] = 1\n",
        "        self.prob[2,5,1] = 1\n",
        "        self.prob[2,6,2] = 1\n",
        "        self.prob[2,7,3] = 1\n",
        "        self.prob[2,8,4] = 1\n",
        "        self.prob[2,9,5] = 1\n",
        "        self.prob[2,10,6] = 1\n",
        "        self.prob[2,11,7] = 1\n",
        "        self.prob[2,12,8] = 1\n",
        "        self.prob[2,13,9] = 1\n",
        "        self.prob[2,14,10] = 1\n",
        "        # new\n",
        "        self.prob[2,15,13] = 1\n",
        "        # valid down actions  prob[action, current_state, next_state ] = 1\n",
        "        self.prob[3,1,5] = 1\n",
        "        self.prob[3,2,6] = 1\n",
        "        self.prob[3,3,7] = 1\n",
        "        self.prob[3,4,8] = 1\n",
        "        self.prob[3,5,9] = 1\n",
        "        self.prob[3,6,10] = 1\n",
        "        self.prob[3,7,11] = 1\n",
        "        self.prob[3,8,12] = 1\n",
        "        self.prob[3,9,13] = 1\n",
        "        self.prob[3,10,14] = 1\n",
        "        self.prob[3,11,0] = 1\n",
        "        self.prob[3,12,12] = 1\n",
        "        # new\n",
        "        self.prob[3,13,15] = 1\n",
        "        self.prob[3,14,14] = 1\n",
        "        # new\n",
        "        self.prob[2,15,15] = 1\n",
        "\n",
        "    def get_value(self):\n",
        "      return self.value_func"
      ],
      "execution_count": 150,
      "outputs": []
    },
    {
      "cell_type": "markdown",
      "metadata": {
        "id": "KFNVmTtbpoHi"
      },
      "source": [
        "## Printing the Value Function"
      ]
    },
    {
      "cell_type": "code",
      "metadata": {
        "id": "FV5jHDz1oJ7B"
      },
      "source": [
        "def printValue(self):\n",
        "        out = \"\"\n",
        "        print(\"v(s) =\")\n",
        "        print(\"  -----------------------\")\n",
        "        for i in range(0, Number_of_states-1):\n",
        "          out += \" | \" + str(round(self.value_func[0,i], 3)) \n",
        "          if ( (i+1) % Number_of_columns == 0 ) :\n",
        "            print(out + \" |\")\n",
        "            print(\"  -----------------------\")\n",
        "            out = \"\"\n",
        "        ## printing again the terminal state at the end\n",
        "        out += \" | \" + str(round(self.value_func[0,0], 3)) \n",
        "        print(out + \" |\")\n",
        "        print(\"  -----------------------\") \n",
        "        print( \"         | \" + str(round(self.value_func[0,15], 3))  + \" |\")\n",
        "        print(\"          -------\") \n",
        "       "
      ],
      "execution_count": 162,
      "outputs": []
    },
    {
      "cell_type": "markdown",
      "metadata": {
        "id": "IBLw56gRQgRt"
      },
      "source": [
        "## Bellman's Equation for Value Function"
      ]
    },
    {
      "cell_type": "code",
      "metadata": {
        "id": "OSzba5OIQsiL"
      },
      "source": [
        "def calculate_Value(self, old_value1):\n",
        "  old_value = np.array(old_value1)\n",
        "  #print(self.value_func)\n",
        "  #print(old_value)\n",
        "  for current_state in range(1,Number_of_states):\n",
        "    new_v = 0\n",
        "    for action in range(0,Number_of_actions):\n",
        "      new_v_sub = 0\n",
        "      for next_state in range(0,Number_of_states):\n",
        "          new_v_sub += self.prob[action,current_state, next_state] * ( self.reward[action,current_state, next_state] + gamma * old_value[0,next_state])\n",
        "          #print(\"a : \" + str(self.actions[action]) + \" s : \" + str(current_state) + \" s' : \" + str(next_state))\n",
        "          #print(\" p : \" + str(self.prob[action,current_state, next_state]) + \" r : \" + str(self.reward[action,current_state, next_state]) + \" v(s') : \" + str(old_value[0,next_state]) )\n",
        "      new_v += self.pi[action,current_state] * new_v_sub\n",
        "    self.value_func[0,current_state] = new_v\n",
        "  #print(self.value_func)"
      ],
      "execution_count": 160,
      "outputs": []
    },
    {
      "cell_type": "markdown",
      "metadata": {
        "id": "_NwFG1NCqKPh"
      },
      "source": [
        "## Main Function"
      ]
    },
    {
      "cell_type": "code",
      "metadata": {
        "colab": {
          "base_uri": "https://localhost:8080/"
        },
        "id": "Gyk0BltIeOB-",
        "outputId": "18fef160-8646-4c02-a45c-ab571762997a"
      },
      "source": [
        "if __name__ == \"__main__\":\n",
        "    state = State()\n",
        "    k_max = 200\n",
        "    print(\"\\nk = 0\")\n",
        "    state.printvalue = printValue\n",
        "    state.calculate_value = calculate_Value\n",
        "    state.printvalue(state)\n",
        "    old_value_func = state.get_value().tolist()\n",
        "    for k in range(0,k_max) :\n",
        "      calculate_Value(state, old_value_func)\n",
        "      if ( k < 3 ):\n",
        "          print(\"\\nk = \" + str(k+1))\n",
        "          state.printvalue(state)\n",
        "      old_value_func = state.get_value().tolist()\n",
        "    print(\"\\n . . .\")\n",
        "    print(\"\\nk = \" + str(k+1))\n",
        "    state.printvalue(state)"
      ],
      "execution_count": 163,
      "outputs": [
        {
          "output_type": "stream",
          "name": "stdout",
          "text": [
            "\n",
            "k = 0\n",
            "v(s) =\n",
            "  -----------------------\n",
            " | 0.0 | 0.0 | 0.0 | 0.0 |\n",
            "  -----------------------\n",
            " | 0.0 | 0.0 | 0.0 | 0.0 |\n",
            "  -----------------------\n",
            " | 0.0 | 0.0 | 0.0 | 0.0 |\n",
            "  -----------------------\n",
            " | 0.0 | 0.0 | 0.0 | 0.0 |\n",
            "  -----------------------\n",
            "         | 0.0 |\n",
            "          -------\n",
            "\n",
            "k = 1\n",
            "v(s) =\n",
            "  -----------------------\n",
            " | 0.0 | -1.0 | -1.0 | -1.0 |\n",
            "  -----------------------\n",
            " | -1.0 | -1.0 | -1.0 | -1.0 |\n",
            "  -----------------------\n",
            " | -1.0 | -1.0 | -1.0 | -1.0 |\n",
            "  -----------------------\n",
            " | -1.0 | -1.0 | -1.0 | 0.0 |\n",
            "  -----------------------\n",
            "         | -1.0 |\n",
            "          -------\n",
            "\n",
            "k = 2\n",
            "v(s) =\n",
            "  -----------------------\n",
            " | 0.0 | -1.75 | -2.0 | -2.0 |\n",
            "  -----------------------\n",
            " | -1.75 | -2.0 | -2.0 | -2.0 |\n",
            "  -----------------------\n",
            " | -2.0 | -2.0 | -2.0 | -1.75 |\n",
            "  -----------------------\n",
            " | -2.0 | -2.0 | -1.75 | 0.0 |\n",
            "  -----------------------\n",
            "         | -2.0 |\n",
            "          -------\n",
            "\n",
            "k = 3\n",
            "v(s) =\n",
            "  -----------------------\n",
            " | 0.0 | -2.438 | -2.938 | -3.0 |\n",
            "  -----------------------\n",
            " | -2.438 | -2.875 | -3.0 | -2.938 |\n",
            "  -----------------------\n",
            " | -2.938 | -3.0 | -2.875 | -2.438 |\n",
            "  -----------------------\n",
            " | -3.0 | -2.938 | -2.438 | 0.0 |\n",
            "  -----------------------\n",
            "         | -2.938 |\n",
            "          -------\n",
            "\n",
            " . . .\n",
            "\n",
            "k = 200\n",
            "v(s) =\n",
            "  -----------------------\n",
            " | 0.0 | -14.0 | -20.0 | -22.0 |\n",
            "  -----------------------\n",
            " | -14.0 | -18.0 | -20.0 | -20.0 |\n",
            "  -----------------------\n",
            " | -20.0 | -20.0 | -18.0 | -14.0 |\n",
            "  -----------------------\n",
            " | -22.0 | -20.0 | -14.0 | 0.0 |\n",
            "  -----------------------\n",
            "         | -20.0 |\n",
            "          -------\n"
          ]
        }
      ]
    }
  ]
}